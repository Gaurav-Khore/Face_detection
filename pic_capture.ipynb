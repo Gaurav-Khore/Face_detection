{
 "cells": [
  {
   "cell_type": "code",
   "execution_count": null,
   "metadata": {},
   "outputs": [],
   "source": [
    "#Total no of faces\n",
    "import cv2\n",
    "face=cv2.CascadeClassifier('haarcascade_frontalface_default.xml')\n",
    "cap=cv2.VideoCapture(0)\n",
    "count=0\n",
    "while True:\n",
    "    status , pic=cap.read()\n",
    "    facecorr=face.detectMultiScale(pic)\n",
    "    l=len(facecorr)\n",
    "    if len(facecorr)==0:\n",
    "        pass\n",
    "    else:\n",
    "        count=l+count\n",
    "        x1=facecorr[0][0]-50\n",
    "        y1=facecorr[0][1]-50\n",
    "        x2=x1+224\n",
    "        y2=y1+224\n",
    "        c_pic=pic[y1:y2,x1:x2]\n",
    "        cv2.imshow('face',c_pic)\n",
    "        \n",
    "        if cv2.waitKey(1)==13:\n",
    "            break\n",
    "cv2.destroyAllWindows()\n",
    "cap.release()"
   ]
  },
  {
   "cell_type": "code",
   "execution_count": null,
   "metadata": {},
   "outputs": [],
   "source": [
    "#Total no of faces\n",
    "import cv2\n",
    "face=cv2.CascadeClassifier('haarcascade_frontalface_default.xml')\n",
    "cap=cv2.VideoCapture(0)\n",
    "count=0\n",
    "while True:\n",
    "    status , pic=cap.read()\n",
    "    facecorr=face.detectMultiScale(pic)\n",
    "    l=len(facecorr)\n",
    "    if len(facecorr)==0:\n",
    "        pass\n",
    "    else:\n",
    "        count=l+count\n",
    "        x1=facecorr[0][0]-50\n",
    "        y1=facecorr[0][1]-50\n",
    "        x2=x1+224\n",
    "        y2=y1+224\n",
    "        c_pic=pic[y1:y2,x1:x2]\n",
    "        file_path='C://Users//HP//Desktop//Python codes//MLOPS//Advance_CNN//dataset//train_set//papa//image'+str(count)+'.jpg'\n",
    "        cv2.imshow('face',c_pic)\n",
    "        cv2.imwrite(file_path,c_pic)\n",
    "        \n",
    "        if cv2.waitKey(1)==13:\n",
    "            break\n",
    "cv2.destroyAllWindows()\n",
    "cap.release()"
   ]
  },
  {
   "cell_type": "code",
   "execution_count": null,
   "metadata": {},
   "outputs": [],
   "source": [
    "cap.release()"
   ]
  },
  {
   "cell_type": "code",
   "execution_count": null,
   "metadata": {},
   "outputs": [],
   "source": []
  }
 ],
 "metadata": {
  "kernelspec": {
   "display_name": "Python 3",
   "language": "python",
   "name": "python3"
  },
  "language_info": {
   "codemirror_mode": {
    "name": "ipython",
    "version": 3
   },
   "file_extension": ".py",
   "mimetype": "text/x-python",
   "name": "python",
   "nbconvert_exporter": "python",
   "pygments_lexer": "ipython3",
   "version": "3.7.7"
  }
 },
 "nbformat": 4,
 "nbformat_minor": 4
}
